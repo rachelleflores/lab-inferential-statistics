{
 "cells": [
  {
   "attachments": {},
   "cell_type": "markdown",
   "metadata": {},
   "source": [
    "# Lab | Inferential statistics\n",
    "\n",
    "## Instructions\n",
    "1. It is assumed that the mean systolic blood pressure is μ = 120 mm Hg. In the Honolulu Heart Study, a sample of n = 100 people had an average systolic blood pressure of 130.1 mm Hg with a standard deviation of 21.21 mm Hg. Is the group significantly different (with respect to systolic blood pressure!) from the regular population?\n",
    "\n",
    "2. Set up the hypothesis test.\n",
    "   \n",
    "3. Write down all the steps followed for setting up the test.\n",
    "   \n",
    "4. Calculate the test statistic by hand and also code it in Python. It should be 4.76190. We will take a look at how to make decisions based on this calculated value.\n"
   ]
  },
  {
   "attachments": {},
   "cell_type": "markdown",
   "metadata": {},
   "source": [
    "### Import Libraries"
   ]
  },
  {
   "cell_type": "code",
   "execution_count": 10,
   "metadata": {},
   "outputs": [],
   "source": [
    "import math\n",
    "import numpy as np\n",
    "from scipy import stats"
   ]
  },
  {
   "attachments": {},
   "cell_type": "markdown",
   "metadata": {},
   "source": [
    "### Given"
   ]
  },
  {
   "cell_type": "code",
   "execution_count": 3,
   "metadata": {},
   "outputs": [],
   "source": [
    "pop_mean = 120\n",
    "n = 100\n",
    "samp_mean = 130.1\n",
    "samp_std = 21.21"
   ]
  },
  {
   "attachments": {},
   "cell_type": "markdown",
   "metadata": {},
   "source": [
    "### Hypotheses\n",
    "\n",
    "- H0 : samp_mean <= 120\n",
    "- Ha : samp_mean > 120"
   ]
  },
  {
   "attachments": {},
   "cell_type": "markdown",
   "metadata": {},
   "source": [
    "### Test Statistics"
   ]
  },
  {
   "cell_type": "code",
   "execution_count": 4,
   "metadata": {},
   "outputs": [
    {
     "data": {
      "text/plain": [
       "4.761904761904759"
      ]
     },
     "execution_count": 4,
     "metadata": {},
     "output_type": "execute_result"
    }
   ],
   "source": [
    "# Manually\n",
    "statistic = (samp_mean - pop_mean)/(samp_std/math.sqrt(n))\n",
    "statistic"
   ]
  },
  {
   "cell_type": "code",
   "execution_count": 5,
   "metadata": {},
   "outputs": [
    {
     "data": {
      "text/plain": [
       "3.2813509086043083e-06"
      ]
     },
     "execution_count": 5,
     "metadata": {},
     "output_type": "execute_result"
    }
   ],
   "source": [
    "# Looking for the p-value eqiuivalent of this statistic\n",
    "p_value = stats.t.sf(abs(statistic), n-1) \n",
    "p_value"
   ]
  },
  {
   "attachments": {},
   "cell_type": "markdown",
   "metadata": {},
   "source": [
    "> Less than 0.05 so we will reject the null hypothesis that the group with systolic blood pressure is not significantly different from the regular population?"
   ]
  },
  {
   "attachments": {},
   "cell_type": "markdown",
   "metadata": {},
   "source": [
    "### Critical Value for alpha = 0.05 and dof 99"
   ]
  },
  {
   "cell_type": "code",
   "execution_count": 6,
   "metadata": {},
   "outputs": [
    {
     "data": {
      "text/plain": [
       "1.6603911559963895"
      ]
     },
     "execution_count": 6,
     "metadata": {},
     "output_type": "execute_result"
    }
   ],
   "source": [
    "# Python Code\n",
    "statistic = stats.t.ppf(1-0.05, n-1)\n",
    "statistic"
   ]
  },
  {
   "attachments": {},
   "cell_type": "markdown",
   "metadata": {},
   "source": [
    "> Checking the critical value of alpha = 0.05 with 99 degrees of freedom, we get the value 1.66. Because the statistic is much higher in comparison, we will reject the null hypothesis."
   ]
  },
  {
   "attachments": {},
   "cell_type": "markdown",
   "metadata": {},
   "source": [
    "**End of lab**\n",
    "\n",
    "Trying to see below how this test would work with a generated random variable sample..."
   ]
  },
  {
   "cell_type": "code",
   "execution_count": 43,
   "metadata": {},
   "outputs": [
    {
     "data": {
      "text/plain": [
       "array([165.95605018, 120.21746837, 130.79611567, 138.74342036,\n",
       "       113.36694256, 130.1438108 , 130.08111492,  92.88229746,\n",
       "       151.6845263 , 142.83657352, 116.83465146, 126.46146138,\n",
       "       140.81739973, 124.55663043, 124.95129204,  99.27674964,\n",
       "       141.86264842, 132.727514  , 135.92129498,  97.72241468,\n",
       "       165.11134045, 133.37345671, 121.8887618 , 173.1366218 ,\n",
       "       129.13736231,  99.33110479, 121.50511719,  81.56483669,\n",
       "       152.35770081, 121.2665797 , 114.35043973, 152.84709149,\n",
       "        95.08068675, 141.45645665,  86.31376203, 116.05560041,\n",
       "       104.55849707, 161.10850305, 167.56027222, 123.11313432,\n",
       "       147.93195207, 126.28248843, 142.14859263, 114.13232306,\n",
       "        93.8661255 ,  91.85627745, 138.22601448, 177.77149107,\n",
       "       135.81422068, 118.97313602, 170.65392007, 135.13317217,\n",
       "       132.25141483, 135.45717377, 127.29227964, 123.53600682,\n",
       "        99.66442489, 140.73944765, 128.0898127 , 155.40535241,\n",
       "       122.27736028,  89.66589488, 127.9872585 , 166.14718606,\n",
       "       121.96759556, 111.22613598, 104.78391533, 107.82914344,\n",
       "       123.73289084, 105.0725798 , 161.86492564, 124.10530664,\n",
       "       132.40443196, 160.60506023, 161.98538582, 125.58793377,\n",
       "       137.14117311, 145.68991385, 126.00953569,  92.38834739,\n",
       "       143.98630798, 149.06921239, 138.91281045, 110.51161783,\n",
       "       125.94226071, 117.56977214, 123.74312466, 157.60693494,\n",
       "       162.54238402, 144.29835988, 141.73888399, 144.45130087,\n",
       "       129.84034322, 128.49517798, 115.81198558, 128.91505138,\n",
       "       178.03347559, 148.53232417, 122.84369793, 120.09043571])"
      ]
     },
     "execution_count": 43,
     "metadata": {},
     "output_type": "execute_result"
    }
   ],
   "source": [
    "# generate samples\n",
    "rvs = stats.norm.rvs(loc=samp_mean, scale=samp_std, size=n, random_state= 7)\n",
    "rvs"
   ]
  },
  {
   "cell_type": "code",
   "execution_count": 44,
   "metadata": {},
   "outputs": [
    {
     "data": {
      "text/plain": [
       "130.3559"
      ]
     },
     "execution_count": 44,
     "metadata": {},
     "output_type": "execute_result"
    }
   ],
   "source": [
    "new_samp_mean = np.mean(rvs).round()\n",
    "new_samp_mean"
   ]
  },
  {
   "cell_type": "code",
   "execution_count": 59,
   "metadata": {},
   "outputs": [
    {
     "name": "stdout",
     "output_type": "stream",
     "text": [
      "4.77 0.0000\n"
     ]
    }
   ],
   "source": [
    "t_statistic, p_value = stats.ttest_1samp(a=rvs, popmean=pop_mean)\n",
    "print(\"%.2f\" % t_statistic,\"%.4f\" % p_value)"
   ]
  }
 ],
 "metadata": {
  "kernelspec": {
   "display_name": "Python 3",
   "language": "python",
   "name": "python3"
  },
  "language_info": {
   "codemirror_mode": {
    "name": "ipython",
    "version": 3
   },
   "file_extension": ".py",
   "mimetype": "text/x-python",
   "name": "python",
   "nbconvert_exporter": "python",
   "pygments_lexer": "ipython3",
   "version": "3.11.3"
  },
  "orig_nbformat": 4
 },
 "nbformat": 4,
 "nbformat_minor": 2
}
